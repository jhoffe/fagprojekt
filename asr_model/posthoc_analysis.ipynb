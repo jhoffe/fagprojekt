{
 "cells": [
  {
   "cell_type": "code",
   "execution_count": 11,
   "outputs": [],
   "source": [
    "import pandas as pd"
   ],
   "metadata": {
    "collapsed": false,
    "pycharm": {
     "name": "#%%\n"
    }
   }
  },
  {
   "cell_type": "code",
   "execution_count": 12,
   "outputs": [
    {
     "data": {
      "text/plain": "   Unnamed: 0                                               Path  SpeakerId  \\\n0           0  data/authentic_speech_upsampled/test-clean/s56...       5639   \n1           1  data/authentic_speech_upsampled/test-clean/s56...       5639   \n2           2  data/authentic_speech_upsampled/test-clean/s90...        908   \n3           3  data/authentic_speech_upsampled/test-clean/s82...       8230   \n4           4  data/authentic_speech_upsampled/test-clean/s45...       4507   \n\n   ChapterId  UtteranceId                                               Text  \\\n0      40744           27  THUS SAYING AND PRESSING THE CRUCIFIX TO HER B...   \n1      40744           30  JUST THEN LEOCADIA CAME TO HERSELF AND EMBRACI...   \n2     157963            8  THOU GENTLE MAID OF SILENT VALLEYS AND OF MODE...   \n3     279154           42  THUS IF I RECOGNIZE A THING THE OCCASION OF IT...   \n4      16021           16  CAN ONE IMAGINE A NATURALIST REFUSING TO STUDY...   \n\n                                               Guess       WER       CER  \\\n0  thus saying amdpressing the crucifixto ereast ...  0.296875  0.296875   \n1  just them leo pedia came to herself and embrac...  0.263158  0.263158   \n2  thou gentle mad of silent valleys and of modes...  0.232558  0.232558   \n3  fthus if i recognize a thing the occasion of i...  0.086957  0.086957   \n4  cam one imagined anaturalist refusing to studi...  0.323529  0.323529   \n\n   WordCount  StopWordCount  \n0         64             33  \n1         57             30  \n2         43             16  \n3         46             27  \n4         34             16  ",
      "text/html": "<div>\n<style scoped>\n    .dataframe tbody tr th:only-of-type {\n        vertical-align: middle;\n    }\n\n    .dataframe tbody tr th {\n        vertical-align: top;\n    }\n\n    .dataframe thead th {\n        text-align: right;\n    }\n</style>\n<table border=\"1\" class=\"dataframe\">\n  <thead>\n    <tr style=\"text-align: right;\">\n      <th></th>\n      <th>Unnamed: 0</th>\n      <th>Path</th>\n      <th>SpeakerId</th>\n      <th>ChapterId</th>\n      <th>UtteranceId</th>\n      <th>Text</th>\n      <th>Guess</th>\n      <th>WER</th>\n      <th>CER</th>\n      <th>WordCount</th>\n      <th>StopWordCount</th>\n    </tr>\n  </thead>\n  <tbody>\n    <tr>\n      <th>0</th>\n      <td>0</td>\n      <td>data/authentic_speech_upsampled/test-clean/s56...</td>\n      <td>5639</td>\n      <td>40744</td>\n      <td>27</td>\n      <td>THUS SAYING AND PRESSING THE CRUCIFIX TO HER B...</td>\n      <td>thus saying amdpressing the crucifixto ereast ...</td>\n      <td>0.296875</td>\n      <td>0.296875</td>\n      <td>64</td>\n      <td>33</td>\n    </tr>\n    <tr>\n      <th>1</th>\n      <td>1</td>\n      <td>data/authentic_speech_upsampled/test-clean/s56...</td>\n      <td>5639</td>\n      <td>40744</td>\n      <td>30</td>\n      <td>JUST THEN LEOCADIA CAME TO HERSELF AND EMBRACI...</td>\n      <td>just them leo pedia came to herself and embrac...</td>\n      <td>0.263158</td>\n      <td>0.263158</td>\n      <td>57</td>\n      <td>30</td>\n    </tr>\n    <tr>\n      <th>2</th>\n      <td>2</td>\n      <td>data/authentic_speech_upsampled/test-clean/s90...</td>\n      <td>908</td>\n      <td>157963</td>\n      <td>8</td>\n      <td>THOU GENTLE MAID OF SILENT VALLEYS AND OF MODE...</td>\n      <td>thou gentle mad of silent valleys and of modes...</td>\n      <td>0.232558</td>\n      <td>0.232558</td>\n      <td>43</td>\n      <td>16</td>\n    </tr>\n    <tr>\n      <th>3</th>\n      <td>3</td>\n      <td>data/authentic_speech_upsampled/test-clean/s82...</td>\n      <td>8230</td>\n      <td>279154</td>\n      <td>42</td>\n      <td>THUS IF I RECOGNIZE A THING THE OCCASION OF IT...</td>\n      <td>fthus if i recognize a thing the occasion of i...</td>\n      <td>0.086957</td>\n      <td>0.086957</td>\n      <td>46</td>\n      <td>27</td>\n    </tr>\n    <tr>\n      <th>4</th>\n      <td>4</td>\n      <td>data/authentic_speech_upsampled/test-clean/s45...</td>\n      <td>4507</td>\n      <td>16021</td>\n      <td>16</td>\n      <td>CAN ONE IMAGINE A NATURALIST REFUSING TO STUDY...</td>\n      <td>cam one imagined anaturalist refusing to studi...</td>\n      <td>0.323529</td>\n      <td>0.323529</td>\n      <td>34</td>\n      <td>16</td>\n    </tr>\n  </tbody>\n</table>\n</div>"
     },
     "execution_count": 12,
     "metadata": {},
     "output_type": "execute_result"
    }
   ],
   "source": [
    "df = pd.read_csv(\"../test.csv\")\n",
    "df.head()"
   ],
   "metadata": {
    "collapsed": false,
    "pycharm": {
     "name": "#%%\n"
    }
   }
  },
  {
   "cell_type": "code",
   "execution_count": 9,
   "outputs": [
    {
     "data": {
      "text/plain": "      Unnamed: 0                                               Path  \\\n509          509  data/authentic_speech_upsampled/test-clean/s10...   \n2127        2127  data/authentic_speech_upsampled/test-clean/s51...   \n1389        1389  data/authentic_speech_upsampled/test-clean/s68...   \n1022        1022  data/authentic_speech_upsampled/test-clean/s85...   \n2460        2460  data/authentic_speech_upsampled/test-clean/s10...   \n...          ...                                                ...   \n222          222  data/authentic_speech_upsampled/test-clean/s69...   \n364          364  data/authentic_speech_upsampled/test-clean/s26...   \n1727        1727  data/authentic_speech_upsampled/test-clean/s15...   \n507          507  data/authentic_speech_upsampled/test-clean/s71...   \n1215        1215  data/authentic_speech_upsampled/test-clean/s61...   \n\n      SpeakerId  ChapterId  UtteranceId  \\\n509        1089     134691           24   \n2127       5142      36377           11   \n1389       6829      68769           41   \n1022       8555     284449           14   \n2460       1089     134691           20   \n...         ...        ...          ...   \n222        6930      81414           25   \n364         260     123288            4   \n1727       1580     141083           47   \n507        7127      75947            2   \n1215         61      70968           58   \n\n                                               Text       WER       CER  \\\n509                               STEPHANOS DEDALOS  2.500000  2.500000   \n2127              MISTER JAGO IS AN AMERICAN PHILIP  1.500000  1.500000   \n1389                I'M NOT ELECTIONEERING JUST NOW  1.400000  1.400000   \n1022                   THE FORMER BOOLOOROO GROANED  1.250000  1.250000   \n2460         HELLO STEPHANOS HERE COMES THE DEDALUS  1.166667  1.166667   \n...                                             ...       ...       ...   \n222                    MY POSITION WAS TOO TERRIBLE  0.000000  0.000000   \n364                THE AIR IS HEAVY THE SEA IS CALM  0.000000  0.000000   \n1727      DID YOU LOOK AT THESE PAPERS ON THE TABLE  0.000000  0.000000   \n507   DO YOU THINK SO SHE REPLIED WITH INDIFFERENCE  0.000000  0.000000   \n1215                        WILL YOU FORGIVE ME NOW  0.000000  0.000000   \n\n      WordCount  StopWordCount  \n509           2              0  \n2127          6              2  \n1389          5              3  \n1022          4              1  \n2460          6              2  \n...         ...            ...  \n222           5              3  \n364           8              4  \n1727          9              6  \n507           8              5  \n1215          5              4  \n\n[2620 rows x 10 columns]",
      "text/html": "<div>\n<style scoped>\n    .dataframe tbody tr th:only-of-type {\n        vertical-align: middle;\n    }\n\n    .dataframe tbody tr th {\n        vertical-align: top;\n    }\n\n    .dataframe thead th {\n        text-align: right;\n    }\n</style>\n<table border=\"1\" class=\"dataframe\">\n  <thead>\n    <tr style=\"text-align: right;\">\n      <th></th>\n      <th>Unnamed: 0</th>\n      <th>Path</th>\n      <th>SpeakerId</th>\n      <th>ChapterId</th>\n      <th>UtteranceId</th>\n      <th>Text</th>\n      <th>WER</th>\n      <th>CER</th>\n      <th>WordCount</th>\n      <th>StopWordCount</th>\n    </tr>\n  </thead>\n  <tbody>\n    <tr>\n      <th>509</th>\n      <td>509</td>\n      <td>data/authentic_speech_upsampled/test-clean/s10...</td>\n      <td>1089</td>\n      <td>134691</td>\n      <td>24</td>\n      <td>STEPHANOS DEDALOS</td>\n      <td>2.500000</td>\n      <td>2.500000</td>\n      <td>2</td>\n      <td>0</td>\n    </tr>\n    <tr>\n      <th>2127</th>\n      <td>2127</td>\n      <td>data/authentic_speech_upsampled/test-clean/s51...</td>\n      <td>5142</td>\n      <td>36377</td>\n      <td>11</td>\n      <td>MISTER JAGO IS AN AMERICAN PHILIP</td>\n      <td>1.500000</td>\n      <td>1.500000</td>\n      <td>6</td>\n      <td>2</td>\n    </tr>\n    <tr>\n      <th>1389</th>\n      <td>1389</td>\n      <td>data/authentic_speech_upsampled/test-clean/s68...</td>\n      <td>6829</td>\n      <td>68769</td>\n      <td>41</td>\n      <td>I'M NOT ELECTIONEERING JUST NOW</td>\n      <td>1.400000</td>\n      <td>1.400000</td>\n      <td>5</td>\n      <td>3</td>\n    </tr>\n    <tr>\n      <th>1022</th>\n      <td>1022</td>\n      <td>data/authentic_speech_upsampled/test-clean/s85...</td>\n      <td>8555</td>\n      <td>284449</td>\n      <td>14</td>\n      <td>THE FORMER BOOLOOROO GROANED</td>\n      <td>1.250000</td>\n      <td>1.250000</td>\n      <td>4</td>\n      <td>1</td>\n    </tr>\n    <tr>\n      <th>2460</th>\n      <td>2460</td>\n      <td>data/authentic_speech_upsampled/test-clean/s10...</td>\n      <td>1089</td>\n      <td>134691</td>\n      <td>20</td>\n      <td>HELLO STEPHANOS HERE COMES THE DEDALUS</td>\n      <td>1.166667</td>\n      <td>1.166667</td>\n      <td>6</td>\n      <td>2</td>\n    </tr>\n    <tr>\n      <th>...</th>\n      <td>...</td>\n      <td>...</td>\n      <td>...</td>\n      <td>...</td>\n      <td>...</td>\n      <td>...</td>\n      <td>...</td>\n      <td>...</td>\n      <td>...</td>\n      <td>...</td>\n    </tr>\n    <tr>\n      <th>222</th>\n      <td>222</td>\n      <td>data/authentic_speech_upsampled/test-clean/s69...</td>\n      <td>6930</td>\n      <td>81414</td>\n      <td>25</td>\n      <td>MY POSITION WAS TOO TERRIBLE</td>\n      <td>0.000000</td>\n      <td>0.000000</td>\n      <td>5</td>\n      <td>3</td>\n    </tr>\n    <tr>\n      <th>364</th>\n      <td>364</td>\n      <td>data/authentic_speech_upsampled/test-clean/s26...</td>\n      <td>260</td>\n      <td>123288</td>\n      <td>4</td>\n      <td>THE AIR IS HEAVY THE SEA IS CALM</td>\n      <td>0.000000</td>\n      <td>0.000000</td>\n      <td>8</td>\n      <td>4</td>\n    </tr>\n    <tr>\n      <th>1727</th>\n      <td>1727</td>\n      <td>data/authentic_speech_upsampled/test-clean/s15...</td>\n      <td>1580</td>\n      <td>141083</td>\n      <td>47</td>\n      <td>DID YOU LOOK AT THESE PAPERS ON THE TABLE</td>\n      <td>0.000000</td>\n      <td>0.000000</td>\n      <td>9</td>\n      <td>6</td>\n    </tr>\n    <tr>\n      <th>507</th>\n      <td>507</td>\n      <td>data/authentic_speech_upsampled/test-clean/s71...</td>\n      <td>7127</td>\n      <td>75947</td>\n      <td>2</td>\n      <td>DO YOU THINK SO SHE REPLIED WITH INDIFFERENCE</td>\n      <td>0.000000</td>\n      <td>0.000000</td>\n      <td>8</td>\n      <td>5</td>\n    </tr>\n    <tr>\n      <th>1215</th>\n      <td>1215</td>\n      <td>data/authentic_speech_upsampled/test-clean/s61...</td>\n      <td>61</td>\n      <td>70968</td>\n      <td>58</td>\n      <td>WILL YOU FORGIVE ME NOW</td>\n      <td>0.000000</td>\n      <td>0.000000</td>\n      <td>5</td>\n      <td>4</td>\n    </tr>\n  </tbody>\n</table>\n<p>2620 rows × 10 columns</p>\n</div>"
     },
     "execution_count": 9,
     "metadata": {},
     "output_type": "execute_result"
    }
   ],
   "source": [
    "df.sort_values(by=[\"WER\"], ascending=False)"
   ],
   "metadata": {
    "collapsed": false,
    "pycharm": {
     "name": "#%%\n"
    }
   }
  },
  {
   "cell_type": "code",
   "execution_count": 14,
   "outputs": [
    {
     "data": {
      "text/plain": "      Unnamed: 0                                               Path  \\\n508          508  data/authentic_speech_upsampled/test-clean/s10...   \n2143        2143  data/authentic_speech_upsampled/test-clean/s51...   \n1405        1405  data/authentic_speech_upsampled/test-clean/s68...   \n1021        1021  data/authentic_speech_upsampled/test-clean/s85...   \n2454        2454  data/authentic_speech_upsampled/test-clean/s10...   \n...          ...                                                ...   \n2047        2047  data/authentic_speech_upsampled/test-clean/s84...   \n953          953  data/authentic_speech_upsampled/test-clean/s15...   \n606          606  data/authentic_speech_upsampled/test-clean/s85...   \n351          351  data/authentic_speech_upsampled/test-clean/s23...   \n1471        1471  data/authentic_speech_upsampled/test-clean/s61...   \n\n      SpeakerId  ChapterId  UtteranceId  \\\n508        1089     134691           24   \n2143       5142      36377           11   \n1405       6829      68769           41   \n1021       8555     284449           14   \n2454       1089     134691           20   \n...         ...        ...          ...   \n2047       8463     294828           24   \n953        1580     141083           22   \n606        8555     284447           12   \n351         237     126133           20   \n1471         61      70970            8   \n\n                                             Text  \\\n508                             STEPHANOS DEDALOS   \n2143            MISTER JAGO IS AN AMERICAN PHILIP   \n1405              I'M NOT ELECTIONEERING JUST NOW   \n1021                 THE FORMER BOOLOOROO GROANED   \n2454       HELLO STEPHANOS HERE COMES THE DEDALUS   \n...                                           ...   \n2047          WE DON'T KNOW WHERE IT WILL TAKE US   \n953   I AM AFRAID THERE ARE NO SIGNS HERE SAID HE   \n606                    THE CAPTAIN SHOOK HIS HEAD   \n351            HOW DID HER MOTHER EVER LET HER GO   \n1471                               NOW TO BED BOY   \n\n                                            Guess       WER       CER  \\\n508                         ste for know ster los  2.500000  2.500000   \n2143      this she are goes in a maic and phillop  1.500000  1.500000   \n1405              in no ellection earin jus s new  1.400000  1.400000   \n1021                     to sanar bilda ry ground  1.250000  1.250000   \n2454       and o steton ose he crumbs the detales  1.166667  1.166667   \n...                                           ...       ...       ...   \n2047          we don't know where it will take us  0.000000  0.000000   \n953   i am afraid there are no signs here said he  0.000000  0.000000   \n606                    the captain shook his head  0.000000  0.000000   \n351            how did her mother ever let her go  0.000000  0.000000   \n1471                               now to bed boy  0.000000  0.000000   \n\n      WordCount  StopWordCount  \n508           2              0  \n2143          6              2  \n1405          5              3  \n1021          4              1  \n2454          6              2  \n...         ...            ...  \n2047          8              5  \n953          10              7  \n606           5              2  \n351           8              4  \n1471          4              2  \n\n[2620 rows x 11 columns]",
      "text/html": "<div>\n<style scoped>\n    .dataframe tbody tr th:only-of-type {\n        vertical-align: middle;\n    }\n\n    .dataframe tbody tr th {\n        vertical-align: top;\n    }\n\n    .dataframe thead th {\n        text-align: right;\n    }\n</style>\n<table border=\"1\" class=\"dataframe\">\n  <thead>\n    <tr style=\"text-align: right;\">\n      <th></th>\n      <th>Unnamed: 0</th>\n      <th>Path</th>\n      <th>SpeakerId</th>\n      <th>ChapterId</th>\n      <th>UtteranceId</th>\n      <th>Text</th>\n      <th>Guess</th>\n      <th>WER</th>\n      <th>CER</th>\n      <th>WordCount</th>\n      <th>StopWordCount</th>\n    </tr>\n  </thead>\n  <tbody>\n    <tr>\n      <th>508</th>\n      <td>508</td>\n      <td>data/authentic_speech_upsampled/test-clean/s10...</td>\n      <td>1089</td>\n      <td>134691</td>\n      <td>24</td>\n      <td>STEPHANOS DEDALOS</td>\n      <td>ste for know ster los</td>\n      <td>2.500000</td>\n      <td>2.500000</td>\n      <td>2</td>\n      <td>0</td>\n    </tr>\n    <tr>\n      <th>2143</th>\n      <td>2143</td>\n      <td>data/authentic_speech_upsampled/test-clean/s51...</td>\n      <td>5142</td>\n      <td>36377</td>\n      <td>11</td>\n      <td>MISTER JAGO IS AN AMERICAN PHILIP</td>\n      <td>this she are goes in a maic and phillop</td>\n      <td>1.500000</td>\n      <td>1.500000</td>\n      <td>6</td>\n      <td>2</td>\n    </tr>\n    <tr>\n      <th>1405</th>\n      <td>1405</td>\n      <td>data/authentic_speech_upsampled/test-clean/s68...</td>\n      <td>6829</td>\n      <td>68769</td>\n      <td>41</td>\n      <td>I'M NOT ELECTIONEERING JUST NOW</td>\n      <td>in no ellection earin jus s new</td>\n      <td>1.400000</td>\n      <td>1.400000</td>\n      <td>5</td>\n      <td>3</td>\n    </tr>\n    <tr>\n      <th>1021</th>\n      <td>1021</td>\n      <td>data/authentic_speech_upsampled/test-clean/s85...</td>\n      <td>8555</td>\n      <td>284449</td>\n      <td>14</td>\n      <td>THE FORMER BOOLOOROO GROANED</td>\n      <td>to sanar bilda ry ground</td>\n      <td>1.250000</td>\n      <td>1.250000</td>\n      <td>4</td>\n      <td>1</td>\n    </tr>\n    <tr>\n      <th>2454</th>\n      <td>2454</td>\n      <td>data/authentic_speech_upsampled/test-clean/s10...</td>\n      <td>1089</td>\n      <td>134691</td>\n      <td>20</td>\n      <td>HELLO STEPHANOS HERE COMES THE DEDALUS</td>\n      <td>and o steton ose he crumbs the detales</td>\n      <td>1.166667</td>\n      <td>1.166667</td>\n      <td>6</td>\n      <td>2</td>\n    </tr>\n    <tr>\n      <th>...</th>\n      <td>...</td>\n      <td>...</td>\n      <td>...</td>\n      <td>...</td>\n      <td>...</td>\n      <td>...</td>\n      <td>...</td>\n      <td>...</td>\n      <td>...</td>\n      <td>...</td>\n      <td>...</td>\n    </tr>\n    <tr>\n      <th>2047</th>\n      <td>2047</td>\n      <td>data/authentic_speech_upsampled/test-clean/s84...</td>\n      <td>8463</td>\n      <td>294828</td>\n      <td>24</td>\n      <td>WE DON'T KNOW WHERE IT WILL TAKE US</td>\n      <td>we don't know where it will take us</td>\n      <td>0.000000</td>\n      <td>0.000000</td>\n      <td>8</td>\n      <td>5</td>\n    </tr>\n    <tr>\n      <th>953</th>\n      <td>953</td>\n      <td>data/authentic_speech_upsampled/test-clean/s15...</td>\n      <td>1580</td>\n      <td>141083</td>\n      <td>22</td>\n      <td>I AM AFRAID THERE ARE NO SIGNS HERE SAID HE</td>\n      <td>i am afraid there are no signs here said he</td>\n      <td>0.000000</td>\n      <td>0.000000</td>\n      <td>10</td>\n      <td>7</td>\n    </tr>\n    <tr>\n      <th>606</th>\n      <td>606</td>\n      <td>data/authentic_speech_upsampled/test-clean/s85...</td>\n      <td>8555</td>\n      <td>284447</td>\n      <td>12</td>\n      <td>THE CAPTAIN SHOOK HIS HEAD</td>\n      <td>the captain shook his head</td>\n      <td>0.000000</td>\n      <td>0.000000</td>\n      <td>5</td>\n      <td>2</td>\n    </tr>\n    <tr>\n      <th>351</th>\n      <td>351</td>\n      <td>data/authentic_speech_upsampled/test-clean/s23...</td>\n      <td>237</td>\n      <td>126133</td>\n      <td>20</td>\n      <td>HOW DID HER MOTHER EVER LET HER GO</td>\n      <td>how did her mother ever let her go</td>\n      <td>0.000000</td>\n      <td>0.000000</td>\n      <td>8</td>\n      <td>4</td>\n    </tr>\n    <tr>\n      <th>1471</th>\n      <td>1471</td>\n      <td>data/authentic_speech_upsampled/test-clean/s61...</td>\n      <td>61</td>\n      <td>70970</td>\n      <td>8</td>\n      <td>NOW TO BED BOY</td>\n      <td>now to bed boy</td>\n      <td>0.000000</td>\n      <td>0.000000</td>\n      <td>4</td>\n      <td>2</td>\n    </tr>\n  </tbody>\n</table>\n<p>2620 rows × 11 columns</p>\n</div>"
     },
     "execution_count": 14,
     "metadata": {},
     "output_type": "execute_result"
    }
   ],
   "source": [
    "df.sort_values(by=[\"CER\"], ascending=False)"
   ],
   "metadata": {
    "collapsed": false,
    "pycharm": {
     "name": "#%%\n"
    }
   }
  }
 ],
 "metadata": {
  "kernelspec": {
   "display_name": "Python 3",
   "language": "python",
   "name": "python3"
  },
  "language_info": {
   "codemirror_mode": {
    "name": "ipython",
    "version": 2
   },
   "file_extension": ".py",
   "mimetype": "text/x-python",
   "name": "python",
   "nbconvert_exporter": "python",
   "pygments_lexer": "ipython2",
   "version": "2.7.6"
  }
 },
 "nbformat": 4,
 "nbformat_minor": 0
}